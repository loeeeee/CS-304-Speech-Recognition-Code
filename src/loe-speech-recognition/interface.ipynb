{
 "cells": [
  {
   "cell_type": "code",
   "execution_count": 1,
   "metadata": {},
   "outputs": [],
   "source": [
    "from segmentation import Segmentation\n",
    "from visualization import Visualization"
   ]
  },
  {
   "cell_type": "code",
   "execution_count": 7,
   "metadata": {},
   "outputs": [
    {
     "name": "stdout",
     "output_type": "stream",
     "text": [
      "Recording started\n",
      "\n",
      "Gracefully exiting\n"
     ]
    }
   ],
   "source": [
    "# Good Mic Setup\n",
    "Segmentation.speech_high_threshold = 128\n",
    "Segmentation.speech_low_threshold = 16\n",
    "Segmentation.silence_duration_threshold = 0.2\n",
    "seg = Segmentation.from_basic(\n",
    "    sample_rate=16000,\n",
    "    save_path=\"../../segment_results\"\n",
    ")\n",
    "# Words\n",
    "seg.main()"
   ]
  },
  {
   "cell_type": "code",
   "execution_count": 2,
   "metadata": {},
   "outputs": [
    {
     "ename": "ModuleNotFoundError",
     "evalue": "No module named 'aifc'",
     "output_type": "error",
     "traceback": [
      "\u001b[0;31m---------------------------------------------------------------------------\u001b[0m",
      "\u001b[0;31mModuleNotFoundError\u001b[0m                       Traceback (most recent call last)",
      "Cell \u001b[0;32mIn[2], line 1\u001b[0m\n\u001b[0;32m----> 1\u001b[0m vis \u001b[38;5;241m=\u001b[39m \u001b[43mVisualization\u001b[49m\u001b[43m(\u001b[49m\u001b[43maudio_path\u001b[49m\u001b[38;5;241;43m=\u001b[39;49m\u001b[38;5;124;43m\"\u001b[39;49m\u001b[38;5;124;43m../../segment_results\u001b[39;49m\u001b[38;5;124;43m\"\u001b[39;49m\u001b[43m)\u001b[49m\n\u001b[1;32m      2\u001b[0m vis\u001b[38;5;241m.\u001b[39mplot_spectrogram()\n",
      "File \u001b[0;32m<string>:6\u001b[0m, in \u001b[0;36m__init__\u001b[0;34m(self, audio_path, n_fft, hop_length)\u001b[0m\n",
      "File \u001b[0;32m~/Documents/CS-304-Speech-Recognition-Code/src/loe-speech-recognition/visualization.py:23\u001b[0m, in \u001b[0;36mVisualization.__post_init__\u001b[0;34m(self)\u001b[0m\n\u001b[1;32m     22\u001b[0m \u001b[38;5;28;01mdef\u001b[39;00m\u001b[38;5;250m \u001b[39m\u001b[38;5;21m__post_init__\u001b[39m(\u001b[38;5;28mself\u001b[39m) \u001b[38;5;241m-\u001b[39m\u001b[38;5;241m>\u001b[39m \u001b[38;5;28;01mNone\u001b[39;00m:\n\u001b[0;32m---> 23\u001b[0m     \u001b[38;5;28mself\u001b[39m\u001b[38;5;241m.\u001b[39m_audio, \u001b[38;5;28mself\u001b[39m\u001b[38;5;241m.\u001b[39m_sr \u001b[38;5;241m=\u001b[39m \u001b[43mlibrosa\u001b[49m\u001b[38;5;241;43m.\u001b[39;49m\u001b[43mload\u001b[49m\u001b[43m(\u001b[49m\u001b[38;5;28;43mself\u001b[39;49m\u001b[38;5;241;43m.\u001b[39;49m\u001b[43maudio_path\u001b[49m\u001b[43m)\u001b[49m\n",
      "File \u001b[0;32m~/Documents/CS-304-Speech-Recognition-Code/.env/lib64/python3.13/site-packages/librosa/core/audio.py:170\u001b[0m, in \u001b[0;36mload\u001b[0;34m(path, sr, mono, offset, duration, dtype, res_type)\u001b[0m\n\u001b[1;32m     56\u001b[0m \u001b[38;5;28;01mdef\u001b[39;00m\u001b[38;5;250m \u001b[39m\u001b[38;5;21mload\u001b[39m(\n\u001b[1;32m     57\u001b[0m     path: Union[\n\u001b[1;32m     58\u001b[0m         \u001b[38;5;28mstr\u001b[39m, \u001b[38;5;28mint\u001b[39m, os\u001b[38;5;241m.\u001b[39mPathLike[Any], sf\u001b[38;5;241m.\u001b[39mSoundFile, audioread\u001b[38;5;241m.\u001b[39mAudioFile, BinaryIO\n\u001b[0;32m   (...)\u001b[0m\n\u001b[1;32m     66\u001b[0m     res_type: \u001b[38;5;28mstr\u001b[39m \u001b[38;5;241m=\u001b[39m \u001b[38;5;124m\"\u001b[39m\u001b[38;5;124msoxr_hq\u001b[39m\u001b[38;5;124m\"\u001b[39m,\n\u001b[1;32m     67\u001b[0m ) \u001b[38;5;241m-\u001b[39m\u001b[38;5;241m>\u001b[39m Tuple[np\u001b[38;5;241m.\u001b[39mndarray, Union[\u001b[38;5;28mint\u001b[39m, \u001b[38;5;28mfloat\u001b[39m]]:\n\u001b[1;32m     68\u001b[0m \u001b[38;5;250m    \u001b[39m\u001b[38;5;124;03m\"\"\"Load an audio file as a floating point time series.\u001b[39;00m\n\u001b[1;32m     69\u001b[0m \n\u001b[1;32m     70\u001b[0m \u001b[38;5;124;03m    Audio will be automatically resampled to the given rate\u001b[39;00m\n\u001b[0;32m   (...)\u001b[0m\n\u001b[1;32m    168\u001b[0m \u001b[38;5;124;03m    >>> y, sr = librosa.load(aro)\u001b[39;00m\n\u001b[1;32m    169\u001b[0m \u001b[38;5;124;03m    \"\"\"\u001b[39;00m\n\u001b[0;32m--> 170\u001b[0m     \u001b[38;5;28;01mif\u001b[39;00m \u001b[38;5;28misinstance\u001b[39m(path, \u001b[38;5;28mtuple\u001b[39m(\u001b[43maudioread\u001b[49m\u001b[38;5;241;43m.\u001b[39;49m\u001b[43mavailable_backends\u001b[49m\u001b[43m(\u001b[49m\u001b[43m)\u001b[49m)):\n\u001b[1;32m    171\u001b[0m         \u001b[38;5;66;03m# Force the audioread loader if we have a reader object already\u001b[39;00m\n\u001b[1;32m    172\u001b[0m         y, sr_native \u001b[38;5;241m=\u001b[39m __audioread_load(path, offset, duration, dtype)\n\u001b[1;32m    173\u001b[0m     \u001b[38;5;28;01melse\u001b[39;00m:\n\u001b[1;32m    174\u001b[0m         \u001b[38;5;66;03m# Otherwise try soundfile first, and then fall back if necessary\u001b[39;00m\n",
      "File \u001b[0;32m~/Documents/CS-304-Speech-Recognition-Code/.env/lib64/python3.13/site-packages/audioread/__init__.py:80\u001b[0m, in \u001b[0;36mavailable_backends\u001b[0;34m(flush_cache)\u001b[0m\n\u001b[1;32m     77\u001b[0m     \u001b[38;5;28;01mreturn\u001b[39;00m BACKENDS\n\u001b[1;32m     79\u001b[0m \u001b[38;5;66;03m# Standard-library WAV and AIFF readers.\u001b[39;00m\n\u001b[0;32m---> 80\u001b[0m \u001b[38;5;28;01mfrom\u001b[39;00m\u001b[38;5;250m \u001b[39m\u001b[38;5;21;01m.\u001b[39;00m\u001b[38;5;250m \u001b[39m\u001b[38;5;28;01mimport\u001b[39;00m rawread\n\u001b[1;32m     81\u001b[0m result \u001b[38;5;241m=\u001b[39m [rawread\u001b[38;5;241m.\u001b[39mRawAudioFile]\n\u001b[1;32m     83\u001b[0m \u001b[38;5;66;03m# Core Audio.\u001b[39;00m\n",
      "File \u001b[0;32m~/Documents/CS-304-Speech-Recognition-Code/.env/lib64/python3.13/site-packages/audioread/rawread.py:16\u001b[0m\n\u001b[1;32m      1\u001b[0m \u001b[38;5;66;03m# This file is part of audioread.\u001b[39;00m\n\u001b[1;32m      2\u001b[0m \u001b[38;5;66;03m# Copyright 2011, Adrian Sampson.\u001b[39;00m\n\u001b[1;32m      3\u001b[0m \u001b[38;5;66;03m#\u001b[39;00m\n\u001b[0;32m   (...)\u001b[0m\n\u001b[1;32m     12\u001b[0m \u001b[38;5;66;03m# The above copyright notice and this permission notice shall be\u001b[39;00m\n\u001b[1;32m     13\u001b[0m \u001b[38;5;66;03m# included in all copies or substantial portions of the Software.\u001b[39;00m\n\u001b[1;32m     15\u001b[0m \u001b[38;5;124;03m\"\"\"Uses standard-library modules to read AIFF, AIFF-C, and WAV files.\"\"\"\u001b[39;00m\n\u001b[0;32m---> 16\u001b[0m \u001b[38;5;28;01mimport\u001b[39;00m\u001b[38;5;250m \u001b[39m\u001b[38;5;21;01maifc\u001b[39;00m\n\u001b[1;32m     17\u001b[0m \u001b[38;5;28;01mimport\u001b[39;00m\u001b[38;5;250m \u001b[39m\u001b[38;5;21;01maudioop\u001b[39;00m\n\u001b[1;32m     18\u001b[0m \u001b[38;5;28;01mimport\u001b[39;00m\u001b[38;5;250m \u001b[39m\u001b[38;5;21;01mstruct\u001b[39;00m\n",
      "\u001b[0;31mModuleNotFoundError\u001b[0m: No module named 'aifc'"
     ]
    }
   ],
   "source": [
    "vis = Visualization(audio_path=\"../../segment_results\")\n",
    "vis.plot_spectrogram()"
   ]
  }
 ],
 "metadata": {
  "kernelspec": {
   "display_name": ".env",
   "language": "python",
   "name": "python3"
  },
  "language_info": {
   "codemirror_mode": {
    "name": "ipython",
    "version": 3
   },
   "file_extension": ".py",
   "mimetype": "text/x-python",
   "name": "python",
   "nbconvert_exporter": "python",
   "pygments_lexer": "ipython3",
   "version": "3.13.1"
  }
 },
 "nbformat": 4,
 "nbformat_minor": 2
}
